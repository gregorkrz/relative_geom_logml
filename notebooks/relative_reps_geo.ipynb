{
 "cells": [
  {
   "cell_type": "code",
   "execution_count": 2,
   "id": "6e6e45ff",
   "metadata": {},
   "outputs": [],
   "source": [
    "import matplotlib.pyplot as plt \n",
    "import numpy as np\n",
    "import random \n",
    "import torch\n",
    "import torchvision\n",
    "from torchvision import transforms\n",
    "from torch.utils.data import DataLoader,random_split\n",
    "import torch.nn.functional as F\n",
    "import torch.optim as optim\n",
    "\n",
    "\n",
    "\n",
    "seed=100\n",
    "torch.manual_seed(seed)\n",
    "random.seed(seed)\n",
    "np.random.seed(seed)\n",
    "\n",
    "data_dir = 'dataset'\n",
    "\n",
    "train_dataset = torchvision.datasets.MNIST(data_dir, train=True, download=True)\n",
    "test_dataset  = torchvision.datasets.MNIST(data_dir, train=False, download=True)\n",
    "\n",
    "train_transform = transforms.Compose([\n",
    "transforms.ToTensor(),\n",
    "])\n",
    "\n",
    "test_transform = transforms.Compose([\n",
    "transforms.ToTensor(),\n",
    "])\n",
    "\n",
    "train_dataset.transform = train_transform\n",
    "test_dataset.transform = test_transform\n",
    "\n",
    "m=len(train_dataset)\n",
    "\n",
    "train_data, val_data = random_split(train_dataset, [int(m-m*0.2), int(m*0.2)])\n",
    "batch_size=256\n",
    "\n",
    "train_loader = torch.utils.data.DataLoader(train_data, batch_size=batch_size)\n",
    "valid_loader = torch.utils.data.DataLoader(val_data, batch_size=batch_size)\n",
    "test_loader = torch.utils.data.DataLoader(test_dataset, batch_size=batch_size,shuffle=True)"
   ]
  },
  {
   "cell_type": "code",
   "execution_count": 3,
   "id": "b06dcf5f",
   "metadata": {},
   "outputs": [],
   "source": [
    "import torch.nn as nn\n",
    "import torch\n",
    "\n",
    "class Encoder(nn.Module):\n",
    "    \n",
    "    def __init__(self, encoded_space_dim):\n",
    "        super().__init__()\n",
    "        \n",
    "        ### Convolutional section\n",
    "        self.encoder_cnn = nn.Sequential(\n",
    "            nn.Conv2d(1, 8, 3, stride=2, padding=1),\n",
    "            nn.ReLU(True),\n",
    "            nn.Conv2d(8, 16, 3, stride=2, padding=1),\n",
    "            #nn.BatchNorm2d(16),\n",
    "            nn.ReLU(True),\n",
    "            nn.Conv2d(16, 32, 3, stride=2, padding=0),\n",
    "            nn.ReLU(True)\n",
    "        )\n",
    "        \n",
    "        ### Flatten layer\n",
    "        self.flatten = nn.Flatten(start_dim=1)\n",
    "### Linear section\n",
    "        self.encoder_lin = nn.Sequential(\n",
    "            nn.Linear(3 * 3 * 32, 128),\n",
    "            nn.ReLU(True),\n",
    "            nn.Linear(128, encoded_space_dim)\n",
    "        )\n",
    "        \n",
    "    def forward(self, x):\n",
    "        x = self.encoder_cnn(x)\n",
    "        x = self.flatten(x)\n",
    "        x = self.encoder_lin(x)\n",
    "        return x\n",
    "class Decoder(nn.Module):\n",
    "    \n",
    "    def __init__(self, encoded_space_dim):\n",
    "        super().__init__()\n",
    "        self.decoder_lin = nn.Sequential(\n",
    "            nn.Linear(encoded_space_dim, 128),\n",
    "            nn.ReLU(True),\n",
    "            nn.Linear(128, 3 * 3 * 32),\n",
    "            nn.ReLU(True)\n",
    "        )\n",
    "\n",
    "        self.unflatten = nn.Unflatten(dim=1, \n",
    "        unflattened_size=(32, 3, 3))\n",
    "\n",
    "        self.decoder_conv = nn.Sequential(\n",
    "            nn.ConvTranspose2d(32, 16, 3, \n",
    "            stride=2, output_padding=0),\n",
    "            #nn.BatchNorm2d(16),\n",
    "            nn.ReLU(True),\n",
    "            nn.ConvTranspose2d(16, 8, 3, stride=2, \n",
    "            padding=1, output_padding=1),\n",
    "            #nn.BatchNorm2d(8),\n",
    "            nn.ReLU(True),\n",
    "            nn.ConvTranspose2d(8, 1, 3, stride=2, \n",
    "            padding=1, output_padding=1)\n",
    "        )\n",
    "        \n",
    "    def forward(self, x):\n",
    "        x = self.decoder_lin(x)\n",
    "        x = self.unflatten(x)\n",
    "        x = self.decoder_conv(x)\n",
    "        x = torch.sigmoid(x)\n",
    "        return x\n",
    "\n",
    "class Autoencoder(nn.Module):\n",
    "    def __init__(self, bottleneck_size):\n",
    "        super().__init__()\n",
    "        self.encoder=Encoder(bottleneck_size)\n",
    "        self.decoder=Decoder(bottleneck_size)\n",
    "\n",
    "    def forward(self,x):\n",
    "        return self.decoder(self.encoder(x))\n",
    "\n",
    "    def encode(self,x):\n",
    "        return self.encoder(x)\n",
    "\n",
    "    def decode(self,z):\n",
    "        return self.decode(z)\n",
    "\n",
    "\n",
    "import numpy as np\n",
    "\n",
    "\n",
    "### Training function\n",
    "def train_epoch(encoder, decoder, device, dataloader, loss_fn, optimizer,print_partial=False):\n",
    "    # Set train mode for both the encoder and the decoder\n",
    "    encoder.train()\n",
    "    decoder.train()\n",
    "    train_loss = []\n",
    "    \n",
    "    # Iterate the dataloader (we do not need the label values, this is unsupervised learning)\n",
    "    for image_batch, _ in dataloader: # with \"_\" we just ignore the labels (the second element of the dataloader tuple)\n",
    "        # Move tensor to the proper device\n",
    "        image_batch = image_batch.to(device)\n",
    "        # Encode data\n",
    "        encoded_data = encoder(image_batch)\n",
    "        # Decode data\n",
    "        decoded_data = decoder(encoded_data)\n",
    "        # Evaluate loss\n",
    "        loss = loss_fn(decoded_data, image_batch)\n",
    "        # Backward pass\n",
    "        optimizer.zero_grad()\n",
    "        loss.backward()\n",
    "        optimizer.step()\n",
    "        # Print batch loss\n",
    "        if print_partial:\n",
    "            print('\\t partial train loss (single batch): %f' % (loss.data))\n",
    "        train_loss.append(loss.detach().cpu().numpy())\n",
    "\n",
    "    return np.mean(train_loss)\n",
    "### Testing function\n",
    "def test_epoch(encoder, decoder, device, dataloader, loss_fn):\n",
    "    # Set evaluation mode for encoder and decoder\n",
    "    encoder.eval()\n",
    "    decoder.eval()\n",
    "    with torch.no_grad(): # No need to track the gradients\n",
    "        # Define the lists to store the outputs for each batch\n",
    "        conc_out = []\n",
    "        conc_label = []\n",
    "        for image_batch, _ in dataloader:\n",
    "            # Move tensor to the proper device\n",
    "            image_batch = image_batch.to(device)\n",
    "            # Encode data\n",
    "            encoded_data = encoder(image_batch)\n",
    "            # Decode data\n",
    "            decoded_data = decoder(encoded_data)\n",
    "            # Append the network output and the original image to the lists\n",
    "            conc_out.append(decoded_data.cpu())\n",
    "            conc_label.append(image_batch.cpu())\n",
    "        # Create a single tensor with all the values in the lists\n",
    "        conc_out = torch.cat(conc_out)\n",
    "        conc_label = torch.cat(conc_label)\n",
    "        # Evaluate global loss\n",
    "        val_loss = loss_fn(conc_out, conc_label)\n",
    "    return val_loss.data"
   ]
  },
  {
   "cell_type": "markdown",
   "id": "a3d68977",
   "metadata": {},
   "source": [
    "## Instatiate the model\n"
   ]
  },
  {
   "cell_type": "code",
   "execution_count": 4,
   "id": "f22801d9",
   "metadata": {
    "scrolled": true
   },
   "outputs": [
    {
     "name": "stdout",
     "output_type": "stream",
     "text": [
      "Selected device: cuda\n"
     ]
    },
    {
     "data": {
      "text/plain": [
       "Decoder(\n",
       "  (decoder_lin): Sequential(\n",
       "    (0): Linear(in_features=32, out_features=128, bias=True)\n",
       "    (1): ReLU(inplace=True)\n",
       "    (2): Linear(in_features=128, out_features=288, bias=True)\n",
       "    (3): ReLU(inplace=True)\n",
       "  )\n",
       "  (unflatten): Unflatten(dim=1, unflattened_size=(32, 3, 3))\n",
       "  (decoder_conv): Sequential(\n",
       "    (0): ConvTranspose2d(32, 16, kernel_size=(3, 3), stride=(2, 2))\n",
       "    (1): ReLU(inplace=True)\n",
       "    (2): ConvTranspose2d(16, 8, kernel_size=(3, 3), stride=(2, 2), padding=(1, 1), output_padding=(1, 1))\n",
       "    (3): ReLU(inplace=True)\n",
       "    (4): ConvTranspose2d(8, 1, kernel_size=(3, 3), stride=(2, 2), padding=(1, 1), output_padding=(1, 1))\n",
       "  )\n",
       ")"
      ]
     },
     "execution_count": 4,
     "metadata": {},
     "output_type": "execute_result"
    }
   ],
   "source": [
    "### Define the loss function\n",
    "loss_fn = torch.nn.MSELoss()\n",
    "\n",
    "### Define an optimizer (both for the encoder and the decoder!)\n",
    "lr= 0.001\n",
    "\n",
    "\n",
    "### Initialize the two networks\n",
    "d = 32\n",
    "\n",
    "encoder = Encoder(encoded_space_dim=d)\n",
    "decoder = Decoder(encoded_space_dim=d)\n",
    "params_to_optimize = [\n",
    "    {'params': encoder.parameters()},\n",
    "    {'params': decoder.parameters()}\n",
    "]\n",
    "\n",
    "optim = torch.optim.Adam(params_to_optimize, lr=lr, weight_decay=1e-05)\n",
    "\n",
    "# Check if the GPU is available\n",
    "device = torch.device(\"cuda\") if torch.cuda.is_available() else torch.device(\"cpu\")\n",
    "print(f'Selected device: {device}')\n",
    "\n",
    "# Move both the encoder and the decoder to the selected device\n",
    "encoder.to(device)\n",
    "decoder.to(device)"
   ]
  },
  {
   "cell_type": "markdown",
   "id": "3c9af2b9",
   "metadata": {},
   "source": [
    "## train model 1"
   ]
  },
  {
   "cell_type": "code",
   "execution_count": 5,
   "id": "2f6bd76a",
   "metadata": {},
   "outputs": [],
   "source": [
    "#%%\n",
    "train= False\n",
    "if train:\n",
    "    num_epochs = 20\n",
    "    npoints = 100\n",
    "    lim = 8\n",
    "    diz_loss = {'train_loss':[],'val_loss':[]}\n",
    "    for epoch in range(num_epochs):\n",
    "        train_loss =train_epoch(encoder,decoder,device,\n",
    "        train_loader,loss_fn,optim)\n",
    "        val_loss = test_epoch(encoder,decoder,device,test_loader,loss_fn)\n",
    "        print('\\n EPOCH {}/{} \\t train loss {} \\t val loss {}'.format(epoch + 1, num_epochs,train_loss,val_loss))\n",
    "        diz_loss['train_loss'].append(train_loss)\n",
    "        diz_loss['val_loss'].append(val_loss)\n",
    "    plt.plot(diz_loss['train_loss'])\n",
    "    plt.plot(diz_loss['val_loss'])\n",
    "    plt.xlabel('Epochs')\n",
    "    plt.ylabel('Loss')\n",
    "    plt.legend(['train_loss','val_loss'])\n",
    "\n"
   ]
  },
  {
   "cell_type": "markdown",
   "id": "4e92cd43",
   "metadata": {},
   "source": []
  },
  {
   "cell_type": "code",
   "execution_count": 6,
   "id": "fcb789e7",
   "metadata": {},
   "outputs": [
    {
     "name": "stdout",
     "output_type": "stream",
     "text": [
      "Selected device: cuda\n"
     ]
    },
    {
     "data": {
      "text/plain": [
       "Decoder(\n",
       "  (decoder_lin): Sequential(\n",
       "    (0): Linear(in_features=32, out_features=128, bias=True)\n",
       "    (1): ReLU(inplace=True)\n",
       "    (2): Linear(in_features=128, out_features=288, bias=True)\n",
       "    (3): ReLU(inplace=True)\n",
       "  )\n",
       "  (unflatten): Unflatten(dim=1, unflattened_size=(32, 3, 3))\n",
       "  (decoder_conv): Sequential(\n",
       "    (0): ConvTranspose2d(32, 16, kernel_size=(3, 3), stride=(2, 2))\n",
       "    (1): ReLU(inplace=True)\n",
       "    (2): ConvTranspose2d(16, 8, kernel_size=(3, 3), stride=(2, 2), padding=(1, 1), output_padding=(1, 1))\n",
       "    (3): ReLU(inplace=True)\n",
       "    (4): ConvTranspose2d(8, 1, kernel_size=(3, 3), stride=(2, 2), padding=(1, 1), output_padding=(1, 1))\n",
       "  )\n",
       ")"
      ]
     },
     "execution_count": 6,
     "metadata": {},
     "output_type": "execute_result"
    }
   ],
   "source": [
    "\n",
    "seed=42\n",
    "torch.manual_seed(seed)\n",
    "random.seed(seed)\n",
    "np.random.seed(seed)\n",
    "\n",
    "encoder2 = Encoder(encoded_space_dim=d)\n",
    "decoder2 = Decoder(encoded_space_dim=d)\n",
    "params_to_optimize = [\n",
    "    {'params': encoder2.parameters()},\n",
    "    {'params': decoder2.parameters()}\n",
    "]\n",
    "\n",
    "optim = torch.optim.Adam(params_to_optimize, lr=lr, weight_decay=1e-05)\n",
    "\n",
    "# Check if the GPU is available\n",
    "device = torch.device(\"cuda\") if torch.cuda.is_available() else torch.device(\"cpu\")\n",
    "print(f'Selected device: {device}')\n",
    "\n",
    "# Move both the encoder and the decoder to the selected device\n",
    "encoder2.to(device)\n",
    "decoder2.to(device)"
   ]
  },
  {
   "cell_type": "markdown",
   "id": "bf62c989",
   "metadata": {},
   "source": [
    "## Train Model 2"
   ]
  },
  {
   "cell_type": "code",
   "execution_count": 7,
   "id": "a8e67241",
   "metadata": {},
   "outputs": [],
   "source": [
    "#set to true to train the model\n",
    "train= False\n",
    "if train:\n",
    "    num_epochs = 20\n",
    "    npoints = 100\n",
    "    lim = 8\n",
    "    diz_loss = {'train_loss':[],'val_loss':[]}\n",
    "    for epoch in range(num_epochs):\n",
    "        train_loss =train_epoch(encoder2,decoder2,device,\n",
    "        train_loader,loss_fn,optim)\n",
    "        val_loss = test_epoch(encoder2,decoder2,device,test_loader,loss_fn)\n",
    "        print('\\n EPOCH {}/{} \\t train loss {} \\t val loss {}'.format(epoch + 1, num_epochs,train_loss,val_loss))\n",
    "        diz_loss['train_loss'].append(train_loss)\n",
    "        diz_loss['val_loss'].append(val_loss)\n",
    "    plt.plot(diz_loss['train_loss'])\n",
    "    plt.plot(diz_loss['val_loss'])\n",
    "    plt.xlabel('Epochs')\n",
    "    plt.ylabel('Loss')\n",
    "    plt.legend(['train_loss','val_loss'])"
   ]
  },
  {
   "cell_type": "code",
   "execution_count": 8,
   "id": "b9b8ce23",
   "metadata": {},
   "outputs": [],
   "source": [
    "import os\n",
    "\n",
    "save = False\n",
    "if save: \n",
    "    # Create the \"checkpoints\" directory if it doesn't exist\n",
    "    os.makedirs(\"checkpoints\", exist_ok=True)\n",
    "\n",
    "    # Save the encoder and decoder weights\n",
    "    torch.save(encoder.state_dict(), \"checkpoints/encoder.pth\")\n",
    "    torch.save(decoder.state_dict(), \"checkpoints/decoder.pth\")\n",
    "\n",
    "\n",
    "    # Save the encoder and decoder weights\n",
    "    torch.save(encoder2.state_dict(), \"checkpoints/encoder2.pth\")\n",
    "    torch.save(decoder2.state_dict(), \"checkpoints/decoder2.pth\")\n"
   ]
  },
  {
   "cell_type": "code",
   "execution_count": 9,
   "id": "a042db59",
   "metadata": {},
   "outputs": [
    {
     "data": {
      "text/plain": [
       "<All keys matched successfully>"
      ]
     },
     "execution_count": 9,
     "metadata": {},
     "output_type": "execute_result"
    }
   ],
   "source": [
    "# Instantiate the encoder and decoder models\n",
    "#d=32\n",
    "encoder = Encoder(encoded_space_dim=d)\n",
    "decoder = Decoder(encoded_space_dim=d)\n",
    "encoder2 = Encoder(encoded_space_dim=d)\n",
    "decoder2 = Decoder(encoded_space_dim=d)\n",
    "\n",
    "# Load the saved weights for the encoder and decoder models\n",
    "encoder.load_state_dict(torch.load(\"checkpoints/encoder.pth\"))\n",
    "decoder.load_state_dict(torch.load(\"checkpoints/decoder.pth\"))\n",
    "encoder2.load_state_dict(torch.load(\"checkpoints/encoder2.pth\"))\n",
    "decoder2.load_state_dict(torch.load(\"checkpoints/decoder2.pth\"))\n"
   ]
  },
  {
   "cell_type": "code",
   "execution_count": 10,
   "id": "5e6d50b2",
   "metadata": {},
   "outputs": [
    {
     "data": {
      "image/png": "[encoded data removed]",
      "text/plain": [
       "<Figure size 2000x800 with 40 Axes>"
      ]
     },
     "metadata": {},
     "output_type": "display_data"
    }
   ],
   "source": [
    "import matplotlib.pyplot as plt\n",
    "\n",
    "# Set the models to evaluation mode\n",
    "encoder.eval()\n",
    "encoder2.eval()\n",
    "decoder.eval()\n",
    "decoder2.eval()\n",
    "encoder.to(device)\n",
    "encoder2.to(device)\n",
    "decoder2.to(device)\n",
    "decoder.to(device)\n",
    "\n",
    "with torch.no_grad():\n",
    "\n",
    "    # Select a random batch of images from the test dataset\n",
    "    images, _ = next(iter(test_loader))\n",
    "    images = images[:10].to(device)\n",
    "\n",
    "    # Encode and decode the images using the first model\n",
    "    encoded_images_model1 = encoder(images)\n",
    "    decoded_images_model1 = decoder(encoded_images_model1)\n",
    "\n",
    "    # Encode and decode the images using the second model\n",
    "    encoded_images_model2 = encoder2(images)\n",
    "    decoded_images_model2 = decoder2(encoded_images_model2)\n",
    "\n",
    "    # Plot the original images and their reconstructions for both models\n",
    "    fig, axes = plt.subplots(nrows=4, ncols=10, figsize=(20, 8))\n",
    "\n",
    "    for i in range(10):\n",
    "        axes[0, i].imshow(images[i].cpu().squeeze(), cmap='gray')\n",
    "        axes[0, i].axis('off')\n",
    "        axes[0, i].set_title('Original')\n",
    "\n",
    "        axes[1, i].imshow(decoded_images_model1[i].cpu().squeeze(), cmap='gray')\n",
    "        axes[1, i].axis('off')\n",
    "        axes[1, i].set_title('Model 1')\n",
    "\n",
    "        axes[2, i].imshow(decoded_images_model2[i].cpu().squeeze(), cmap='gray')\n",
    "        axes[2, i].axis('off')\n",
    "        axes[2, i].set_title('Model 2')\n",
    "\n",
    "        axes[3, i].imshow(images[i].cpu().squeeze() - decoded_images_model1[i].cpu().squeeze(), cmap='gray')\n",
    "        axes[3, i].axis('off')\n",
    "        axes[3, i].set_title('Diff (Model 1)')\n",
    "\n",
    "    plt.tight_layout()\n",
    "    plt.show()\n"
   ]
  },
  {
   "cell_type": "code",
   "execution_count": 11,
   "id": "c4f2c405",
   "metadata": {},
   "outputs": [],
   "source": [
    "from sklearn.manifold import TSNE\n",
    "import matplotlib.pyplot as plt\n",
    "\n",
    "# Set the models to evaluation mode\n",
    "encoder.eval()\n",
    "encoder2.eval()\n",
    "encoder.to(device)\n",
    "encoder2.to(device)\n",
    "# Create empty lists to store the encoded data and labels\n",
    "encoded_data_model1 = []\n",
    "encoded_data_model2 = []\n",
    "labels = []\n",
    "\n",
    "# Iterate through the validation loader\n",
    "for image_batch, label_batch in valid_loader:\n",
    "    # Move the image batch to the device\n",
    "    image_batch = image_batch.to(device)\n",
    "    \n",
    "    # Encode the data using the first model\n",
    "    encoded_data_1 = encoder(image_batch)\n",
    "    encoded_data_model1.append(encoded_data_1.cpu().detach().numpy())\n",
    "    \n",
    "    # Encode the data using the second model\n",
    "    encoded_data_2 = encoder2(image_batch)\n",
    "    encoded_data_model2.append(encoded_data_2.cpu().detach().numpy())\n",
    "    \n",
    "    # Append the labels to the list\n",
    "    labels.extend(label_batch.numpy())\n",
    "\n",
    "# Concatenate the encoded data from both models\n",
    "encoded_data_model1 = np.concatenate(encoded_data_model1)\n",
    "encoded_data_model2 = np.concatenate(encoded_data_model2)\n",
    "\n",
    "if False:\n",
    "    # Apply t-SNE to the encoded data\n",
    "    tsne_model1 = TSNE(n_components=2).fit_transform(encoded_data_model1)\n",
    "    tsne_model2 = TSNE(n_components=2).fit_transform(encoded_data_model2)\n",
    "\n",
    "    # Create a scatter plot of the t-SNE embeddings with labels as colors\n",
    "    plt.figure(figsize=(10, 5))\n",
    "    plt.subplot(1, 2, 1)\n",
    "    plt.scatter(tsne_model1[:, 0], tsne_model1[:, 1], c=labels,cmap='tab10')\n",
    "    plt.title(\"Model 1 Latent Space\")\n",
    "    plt.xlabel(\"Dimension 1\")\n",
    "    plt.ylabel(\"Dimension 2\")\n",
    "    plt.colorbar()\n",
    "\n",
    "    plt.subplot(1, 2, 2)\n",
    "    plt.scatter(tsne_model2[:, 0], tsne_model2[:, 1], c=labels,cmap='tab10')\n",
    "    plt.title(\"Model 2 Latent Space\")\n",
    "    plt.xlabel(\"Dimension 1\")\n",
    "    plt.ylabel(\"Dimension 2\")\n",
    "    plt.colorbar()\n",
    "\n",
    "    plt.tight_layout()\n",
    "    plt.show()\n"
   ]
  },
  {
   "cell_type": "code",
   "execution_count": 12,
   "id": "9c6fb7eb",
   "metadata": {},
   "outputs": [],
   "source": [
    "encoder.cpu()\n",
    "encoder2.cpu()\n",
    "def extract_samples(validation_loader, N):\n",
    "    class_samples = {}\n",
    "    \n",
    "    for images, labels in validation_loader:\n",
    "        for image, label in zip(images, labels):\n",
    "            if label.item() not in class_samples:\n",
    "                class_samples[label.item()] = []\n",
    "            \n",
    "            if len(class_samples[label.item()]) < N:\n",
    "                class_samples[label.item()].append(image)\n",
    "                \n",
    "            if all(len(samples) == N for samples in class_samples.values()):\n",
    "                break\n",
    "    \n",
    "    return class_samples\n",
    "\n",
    "\n",
    "anchors = extract_samples(valid_loader, 10)\n",
    "\n",
    "anchors = [torch.stack(samples) for label, samples in anchors.items()]\n",
    "\n",
    "anchors=torch.cat(anchors,0)\n",
    "\n",
    "#latents model1\n",
    "encoded_anchors_model1 = encoder(anchors)\n",
    "#latents model2\n",
    "encoded_anchors_model2 = encoder2(anchors)\n",
    "\n"
   ]
  },
  {
   "cell_type": "code",
   "execution_count": 13,
   "id": "d12d6a6c",
   "metadata": {},
   "outputs": [],
   "source": [
    "def relative_reps(x,anchors):\n",
    "    x= F.normalize(x,p=2,dim=-1)\n",
    "    anchors = F.normalize(anchors,p=2,dim=-1)\n",
    "    return torch.einsum('nd,ad->na',x,anchors)\n",
    "\n",
    "rel1=relative_reps(torch.from_numpy(encoded_data_model1),encoded_anchors_model1)\n",
    "\n",
    "rel2=relative_reps(torch.from_numpy(encoded_data_model2),encoded_anchors_model2)\n",
    "\n"
   ]
  },
  {
   "cell_type": "code",
   "execution_count": 14,
   "id": "90823ea6",
   "metadata": {},
   "outputs": [],
   "source": [
    "# Apply t-SNE to the encoded data\n",
    "\n",
    "if False:\n",
    "    tsne_model1 = TSNE(n_components=2).fit_transform(rel1.detach().cpu())\n",
    "    tsne_model2 = TSNE(n_components=2).fit_transform(rel2.detach().cpu())\n",
    "\n",
    "    # Create a scatter plot of the t-SNE embeddings with labels as colors\n",
    "    plt.figure(figsize=(10, 5))\n",
    "    plt.subplot(1, 2, 1)\n",
    "    plt.scatter(tsne_model1[:, 0], tsne_model1[:, 1], c=labels,cmap='tab10')\n",
    "    plt.title(\"Model 1 Latent Space\")\n",
    "    plt.xlabel(\"Dimension 1\")\n",
    "    plt.ylabel(\"Dimension 2\")\n",
    "    plt.colorbar()\n",
    "\n",
    "    plt.subplot(1, 2, 2)\n",
    "    plt.scatter(tsne_model2[:, 0], tsne_model2[:, 1], c=labels,cmap='tab10')\n",
    "    plt.title(\"Model 2 Latent Space\")\n",
    "    plt.xlabel(\"Dimension 1\")\n",
    "    plt.ylabel(\"Dimension 2\")\n",
    "    plt.colorbar()\n"
   ]
  },
  {
   "cell_type": "code",
   "execution_count": 15,
   "id": "735dc415",
   "metadata": {},
   "outputs": [
    {
     "data": {
      "text/plain": [
       "(0.9915814, -0.08544535)"
      ]
     },
     "execution_count": 15,
     "metadata": {},
     "output_type": "execute_result"
    }
   ],
   "source": [
    "from sklearn.metrics.pairwise import cosine_similarity\n",
    "\n",
    "# Compute the cosine similarity between rel1 and rel2\n",
    "similarity_rel = cosine_similarity(rel1.detach().cpu(), rel2.detach().cpu())\n",
    "\n",
    "# Compute the cosine similarity between encoded_data_model1 and encoded_data_model2\n",
    "similarity_encoded_data = cosine_similarity(encoded_data_model1, encoded_data_model2)\n",
    "\n",
    "np.diag(similarity_rel).mean(), np.diag(similarity_encoded_data).mean()"
   ]
  },
  {
   "cell_type": "code",
   "execution_count": null,
   "id": "4b789a24",
   "metadata": {},
   "outputs": [],
   "source": []
  },
  {
   "cell_type": "code",
   "execution_count": 16,
   "id": "ed89910d",
   "metadata": {},
   "outputs": [
    {
     "data": {
      "text/plain": [
       "(0.67765826, -0.08544535)"
      ]
     },
     "execution_count": 16,
     "metadata": {},
     "output_type": "execute_result"
    }
   ],
   "source": []
  },
  {
   "cell_type": "code",
   "execution_count": 17,
   "id": "bc457b31",
   "metadata": {},
   "outputs": [],
   "source": [
    "def energy(t,g):\n",
    "    with torch.no_grad():\n",
    "        step=1/t.shape[0]\n",
    "        N,_=t.shape\n",
    "        diff=torch.diff(g(t).reshape(N,-1),dim=0,prepend=torch.zeros((1,784),device=t.device))\n",
    "        return 0.5*torch.sum((step*diff)**2)"
   ]
  },
  {
   "cell_type": "code",
   "execution_count": 18,
   "id": "4cd84df5",
   "metadata": {},
   "outputs": [],
   "source": [
    "def energy(t,g):\n",
    "    with torch.no_grad():\n",
    "        step=1/t.shape[0]\n",
    "        N,_=t.shape\n",
    "        diff=torch.diff(g(t).reshape(N,-1),dim=0,prepend=torch.zeros((1,784),device=t.device))\n",
    "        return 0.5*torch.sum((step*diff)**2)\n",
    "\n",
    "def linspace(a,b,n=10):\n",
    "    ap=torch.linspace(0,1,n)\n",
    "    t=[]\n",
    "    for alpha in ap:\n",
    "        t.append(a*(alpha)+b*(1-alpha))\n",
    "    t=torch.stack(t)\n",
    "    return t\n",
    "\n",
    "def score(z1,z2,g):\n",
    "    with torch.no_grad():\n",
    "        t=linspace(z1,z2,20)\n",
    "        return energy(t,g)\n",
    "    \n",
    "\n",
    "\n",
    "def compute_score_matrix(z1_list, z2_list, g):\n",
    "    N = z1_list.shape[0]\n",
    "    M = z2_list.shape[0]\n",
    "    \n",
    "    score_matrix = torch.zeros((N, M), device=z1_list[0].device)\n",
    "\n",
    "    for i in range(N):\n",
    "        for j in range(M):\n",
    "            score_matrix[i, j] = score(z1_list[i], z2_list[j], g)\n",
    "    \n",
    "    return score_matrix\n",
    "\n",
    "def compute_score_matrix(z1_tensor, z2_tensor, g):\n",
    "    \n",
    "    # Stack the tensors to create two 3D tensors of shape (N, d) and (M, d)\n",
    "    #z1_tensor = torch.stack(z1_list)  # Shape: (N, d)\n",
    "    #z2_tensor = torch.stack(z2_list)  # Shape: (M, d)\n",
    "    \n",
    "    # Create a grid of all combinations of z1 and z2\n",
    "    N, d = z1_tensor.shape\n",
    "    M, d = z2_tensor.shape\n",
    "    z1_expanded = z1_tensor.unsqueeze(1).expand(N, M, -1)  # Shape: (N, M, d)\n",
    "    z2_expanded = z2_tensor.unsqueeze(0).expand(N, M, -1)  # Shape: (N, M, d)\n",
    "    steps=10\n",
    "    # Compute linspace for all combinations\n",
    "    alpha = torch.linspace(0, 1, steps=steps, device=z1_tensor.device).view(1, 1, steps, 1)  # Shape: (1, 1, 20, 1)\n",
    "    t = alpha * z1_expanded.unsqueeze(2) + (1 - alpha) * z2_expanded.unsqueeze(2)  # Shape: (N, M, 20, d)\n",
    "    \n",
    "    # Compute the energy for all t\n",
    "    with torch.no_grad():\n",
    "        step = 1 / t.shape[2]\n",
    "        diff = torch.diff(g(t.reshape(-1, t.shape[-1])).reshape(N, M, steps, -1), dim=2, prepend=torch.zeros((N, M, 1, 784), device=t.device))\n",
    "        energy = 0.5 * torch.sum((step * diff) ** 2, dim=(2, 3))  # Sum over the linspace steps and feature dimensions\n",
    "    \n",
    "    return energy\n"
   ]
  },
  {
   "cell_type": "code",
   "execution_count": null,
   "id": "ff38e589",
   "metadata": {},
   "outputs": [],
   "source": []
  },
  {
   "cell_type": "code",
   "execution_count": 19,
   "id": "4846e647",
   "metadata": {},
   "outputs": [],
   "source": [
    "rel_geo=[]\n",
    "for z in torch.from_numpy(encoded_data_model1).split(100,dim=0):\n",
    "    rel_geo.append(compute_score_matrix(z.cuda(),encoded_anchors_model1.cuda(),decoder))"
   ]
  },
  {
   "cell_type": "code",
   "execution_count": 21,
   "id": "a5264375",
   "metadata": {},
   "outputs": [],
   "source": [
    "rel_geo=torch.cat(rel_geo,dim=0)"
   ]
  },
  {
   "cell_type": "code",
   "execution_count": 22,
   "id": "cf96051c",
   "metadata": {},
   "outputs": [],
   "source": [
    "rel_geo2=[]\n",
    "for z in torch.from_numpy(encoded_data_model2).split(100,dim=0):\n",
    "    rel_geo2.append(compute_score_matrix(z.cuda(),encoded_anchors_model2.cuda(),decoder2))"
   ]
  },
  {
   "cell_type": "code",
   "execution_count": 23,
   "id": "5ed14172",
   "metadata": {},
   "outputs": [],
   "source": [
    "rel_geo2=torch.cat(rel_geo2,dim=0)"
   ]
  },
  {
   "cell_type": "code",
   "execution_count": null,
   "id": "9d119cda",
   "metadata": {},
   "outputs": [],
   "source": []
  },
  {
   "cell_type": "code",
   "execution_count": 25,
   "id": "d1b39b83",
   "metadata": {},
   "outputs": [
    {
     "data": {
      "text/plain": [
       "(-0.08544535, 0.9915814, 0.99911875)"
      ]
     },
     "execution_count": 25,
     "metadata": {},
     "output_type": "execute_result"
    }
   ],
   "source": [
    "from sklearn.metrics.pairwise import cosine_similarity\n",
    "\n",
    "# Compute the cosine similarity between rel1 and rel2\n",
    "similarity_rel_geo = cosine_similarity(rel_geo.detach().cpu(), rel_geo2.detach().cpu())\n",
    "\n",
    "similarity_rel = cosine_similarity(rel1.detach().cpu(), rel2.detach().cpu())\n",
    "\n",
    "\n",
    "# Compute the cosine similarity between encoded_data_model1 and encoded_data_model2\n",
    "similarity_encoded_data = cosine_similarity(encoded_data_model1, encoded_data_model2)\n",
    "\n",
    "np.diag(similarity_encoded_data).mean(),np.diag(similarity_rel).mean(), np.diag(similarity_rel_geo).mean()"
   ]
  },
  {
   "cell_type": "code",
   "execution_count": 27,
   "id": "4d45015d",
   "metadata": {},
   "outputs": [
    {
     "data": {
      "text/plain": [
       "(204.67397, 0.67765826, 0.30284232)"
      ]
     },
     "execution_count": 27,
     "metadata": {},
     "output_type": "execute_result"
    }
   ],
   "source": [
    "\n",
    "similarity_rel_geo = torch.cdist(rel_geo.detach().cpu(), rel_geo2.detach().cpu())\n",
    "\n",
    "# Compute the cosine similarity between rel1 and rel2\n",
    "similarity_rel = torch.cdist(rel1.detach().cpu(), rel2.detach().cpu())\n",
    "\n",
    "# Compute the cosine similarity between encoded_data_model1 and encoded_data_model2\n",
    "similarity_encoded_data = torch.cdist(torch.from_numpy(encoded_data_model1), torch.from_numpy(encoded_data_model2))\n",
    "\n",
    "np.diag(similarity_encoded_data).mean(),np.diag(similarity_rel).mean(), np.diag(similarity_rel_geo).mean()"
   ]
  }
 ],
 "metadata": {
  "kernelspec": {
   "display_name": "relgeo",
   "language": "python",
   "name": "relgeo"
  },
  "language_info": {
   "codemirror_mode": {
    "name": "ipython",
    "version": 3
   },
   "file_extension": ".py",
   "mimetype": "text/x-python",
   "name": "python",
   "nbconvert_exporter": "python",
   "pygments_lexer": "ipython3",
   "version": "3.9.16"
  }
 },
 "nbformat": 4,
 "nbformat_minor": 5
}
